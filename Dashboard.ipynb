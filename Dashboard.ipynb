{
 "cells": [
  {
   "cell_type": "markdown",
   "id": "6359f4c9-0ce7-4fdc-a21c-cad8158a7f65",
   "metadata": {
    "editable": true,
    "slideshow": {
     "slide_type": ""
    },
    "tags": []
   },
   "source": [
    "# Scraping [Transportstyrelsen](https://www.transportstyrelsen.se/sv/vagtrafik/fordon/aga-kopa-eller-salja-fordon/import-och-export-av-fordon/fordonsimport-och-ursprungskontroll/)\n",
    "\n",
    "## Transportstyrelsen\n",
    "\n",
    "See the [README](README.md) on why, what and how."
   ]
  },
  {
   "cell_type": "markdown",
   "id": "ff7a54e4-d774-4bfb-9baf-0d2a5bcde8e6",
   "metadata": {
    "editable": true,
    "slideshow": {
     "slide_type": ""
    },
    "tags": []
   },
   "source": [
    "## Case handling duration\n",
    "\n",
    "It follows that if more cases are handled per day, the processing time goes down."
   ]
  },
  {
   "cell_type": "code",
   "execution_count": 3,
   "id": "cbf107a3-b4ef-4842-85e0-c3c2d3a0226e",
   "metadata": {
    "editable": true,
    "slideshow": {
     "slide_type": ""
    },
    "tags": [
     "hide-cell",
     "remove-input"
    ]
   },
   "outputs": [],
   "source": [
    "import pandas as pd\n",
    "\n",
    "def read_data():\n",
    "    return pd.read_csv(\"transportstyrelsen_data.csv\")\n",
    "\n",
    "def sanitize(df):\n",
    "    df['Date'] = pd.to_datetime(df['Date'], format='ISO8601')\n",
    "    df['Evaluating cases'] = pd.to_datetime(df['Evaluating cases'])\n",
    "\n",
    "    return df\n",
    "\n",
    "df = sanitize(read_data())\n",
    "df['Week'] = df['Date'].dt.strftime('%Y-%U')\n",
    "grouped_by_week = df.groupby('Week', as_index=True)"
   ]
  },
  {
   "cell_type": "markdown",
   "id": "27073131-9e26-4f95-86cd-1554058eb692",
   "metadata": {
    "editable": true,
    "slideshow": {
     "slide_type": ""
    },
    "tags": []
   },
   "source": [
    "### Processing time evolution per week"
   ]
  },
  {
   "cell_type": "code",
   "execution_count": 10,
   "id": "623465de-9bb5-466c-90a2-2651219bbc00",
   "metadata": {
    "editable": true,
    "slideshow": {
     "slide_type": ""
    },
    "tags": [
     "remove-input"
    ]
   },
   "outputs": [],
   "source": [
    "processing_aggregate_name_mapping = {'mean': 'Mean', 'min': 'Fastest', 'max': 'Slowest'}"
   ]
  },
  {
   "cell_type": "code",
   "execution_count": 11,
   "id": "9d2f324d-7bf5-4220-8789-05f078ad9dd0",
   "metadata": {
    "editable": true,
    "slideshow": {
     "slide_type": "fragment"
    },
    "tags": []
   },
   "outputs": [
    {
     "data": {
      "text/html": [
       "<div>\n",
       "<style scoped>\n",
       "    .dataframe tbody tr th:only-of-type {\n",
       "        vertical-align: middle;\n",
       "    }\n",
       "\n",
       "    .dataframe tbody tr th {\n",
       "        vertical-align: top;\n",
       "    }\n",
       "\n",
       "    .dataframe thead th {\n",
       "        text-align: right;\n",
       "    }\n",
       "</style>\n",
       "<table border=\"1\" class=\"dataframe\">\n",
       "  <thead>\n",
       "    <tr style=\"text-align: right;\">\n",
       "      <th></th>\n",
       "      <th>Mean</th>\n",
       "      <th>Fastest</th>\n",
       "      <th>Slowest</th>\n",
       "    </tr>\n",
       "    <tr>\n",
       "      <th>Week</th>\n",
       "      <th></th>\n",
       "      <th></th>\n",
       "      <th></th>\n",
       "    </tr>\n",
       "  </thead>\n",
       "  <tbody>\n",
       "    <tr>\n",
       "      <th>2024-49</th>\n",
       "      <td>5.48</td>\n",
       "      <td>5.29</td>\n",
       "      <td>5.92</td>\n",
       "    </tr>\n",
       "    <tr>\n",
       "      <th>2024-50</th>\n",
       "      <td>5.43</td>\n",
       "      <td>5.43</td>\n",
       "      <td>5.43</td>\n",
       "    </tr>\n",
       "  </tbody>\n",
       "</table>\n",
       "</div>"
      ],
      "text/plain": [
       "         Mean  Fastest  Slowest\n",
       "Week                           \n",
       "2024-49  5.48     5.29     5.92\n",
       "2024-50  5.43     5.43     5.43"
      ]
     },
     "execution_count": 11,
     "metadata": {},
     "output_type": "execute_result"
    }
   ],
   "source": [
    "# Calculate mean, least and most processing time fluctuations in a week\n",
    "grouped_by_week['Processing time'].agg(['mean', 'min', 'max']).round({'mean': 2}).rename(columns=processing_aggregate_name_mapping)"
   ]
  },
  {
   "cell_type": "markdown",
   "id": "cd16e8d6-707b-4b46-840d-9b68be950fcc",
   "metadata": {
    "editable": true,
    "slideshow": {
     "slide_type": ""
    },
    "tags": []
   },
   "source": [
    "### Dates handled"
   ]
  },
  {
   "cell_type": "code",
   "execution_count": 4,
   "id": "3c3a0270-4994-4ff6-8df7-637fa3c5e749",
   "metadata": {
    "editable": true,
    "slideshow": {
     "slide_type": ""
    },
    "tags": [
     "hide-cell",
     "remove-input"
    ]
   },
   "outputs": [],
   "source": [
    "# This shows us how many days' worth of cases were handled on a given day.\n",
    "df['Progressed cases'] = df['Evaluating cases'].diff().dt.days"
   ]
  },
  {
   "cell_type": "code",
   "execution_count": 5,
   "id": "964bd8b7-1998-470b-92fd-4c13fd09f37e",
   "metadata": {
    "editable": true,
    "slideshow": {
     "slide_type": ""
    },
    "tags": [
     "hide-cell"
    ]
   },
   "outputs": [
    {
     "data": {
      "text/html": [
       "<div>\n",
       "<style scoped>\n",
       "    .dataframe tbody tr th:only-of-type {\n",
       "        vertical-align: middle;\n",
       "    }\n",
       "\n",
       "    .dataframe tbody tr th {\n",
       "        vertical-align: top;\n",
       "    }\n",
       "\n",
       "    .dataframe thead th {\n",
       "        text-align: right;\n",
       "    }\n",
       "</style>\n",
       "<table border=\"1\" class=\"dataframe\">\n",
       "  <thead>\n",
       "    <tr style=\"text-align: right;\">\n",
       "      <th></th>\n",
       "      <th>Processed dates</th>\n",
       "    </tr>\n",
       "    <tr>\n",
       "      <th>Week</th>\n",
       "      <th></th>\n",
       "    </tr>\n",
       "  </thead>\n",
       "  <tbody>\n",
       "    <tr>\n",
       "      <th>2024-49</th>\n",
       "      <td>6.0</td>\n",
       "    </tr>\n",
       "    <tr>\n",
       "      <th>2024-50</th>\n",
       "      <td>3.0</td>\n",
       "    </tr>\n",
       "  </tbody>\n",
       "</table>\n",
       "</div>"
      ],
      "text/plain": [
       "         Processed dates\n",
       "Week                    \n",
       "2024-49              6.0\n",
       "2024-50              3.0"
      ]
     },
     "execution_count": 5,
     "metadata": {},
     "output_type": "execute_result"
    }
   ],
   "source": [
    "grouped_by_week['Progressed cases'].agg(['sum']).rename(columns={\"sum\": \"Processed dates\"})"
   ]
  },
  {
   "cell_type": "code",
   "execution_count": null,
   "id": "5f479199-07f9-445f-a929-430eccdd9d5f",
   "metadata": {
    "editable": true,
    "slideshow": {
     "slide_type": ""
    },
    "tags": []
   },
   "outputs": [],
   "source": []
  }
 ],
 "metadata": {
  "kernelspec": {
   "display_name": "Python 3 (ipykernel)",
   "language": "python",
   "name": "python3"
  },
  "language_info": {
   "codemirror_mode": {
    "name": "ipython",
    "version": 3
   },
   "file_extension": ".py",
   "mimetype": "text/x-python",
   "name": "python",
   "nbconvert_exporter": "python",
   "pygments_lexer": "ipython3",
   "version": "3.13.1"
  }
 },
 "nbformat": 4,
 "nbformat_minor": 5
}
